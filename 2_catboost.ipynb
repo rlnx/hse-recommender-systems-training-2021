{
 "cells": [
  {
   "cell_type": "code",
   "execution_count": 1,
   "metadata": {},
   "outputs": [],
   "source": [
    "import numpy as np\n",
    "import pandas as pd\n",
    "import scipy.sparse as sparse"
   ]
  },
  {
   "cell_type": "code",
   "execution_count": 2,
   "metadata": {},
   "outputs": [],
   "source": [
    "train = pd.read_parquet('data/train.par')\n",
    "test = pd.read_parquet('data/test.par')\n",
    "items = pd.read_parquet('data/items.par')"
   ]
  },
  {
   "cell_type": "code",
   "execution_count": 3,
   "metadata": {},
   "outputs": [],
   "source": [
    "items.drop_duplicates(subset=['item_id'], inplace=True)"
   ]
  },
  {
   "cell_type": "code",
   "execution_count": 4,
   "metadata": {},
   "outputs": [],
   "source": [
    "n_users = train.user_id.max() + 1\n",
    "n_items = train.item_id.max() + 1"
   ]
  },
  {
   "cell_type": "code",
   "execution_count": 5,
   "metadata": {},
   "outputs": [],
   "source": [
    "test_1 = train.groupby('user_id').sample(frac=0.1)\n",
    "train_1 = train[~train.index.isin(test_1.index)]"
   ]
  },
  {
   "cell_type": "code",
   "execution_count": 6,
   "metadata": {},
   "outputs": [],
   "source": [
    "train_ratings = train_1 \\\n",
    "    .groupby(['item_id', 'user_id'], as_index=False) \\\n",
    "    .size() \\\n",
    "    .rename(columns={'size': 'rating'})\n",
    "\n",
    "user_sum_rating = train_ratings.groupby('user_id').rating.sum()\n",
    "train_ratings = train_ratings.join(user_sum_rating, on='user_id', rsuffix='_sum')\n",
    "train_ratings['rating_normal'] = train_ratings['rating'] / train_ratings['rating_sum']"
   ]
  },
  {
   "cell_type": "code",
   "execution_count": 7,
   "metadata": {},
   "outputs": [],
   "source": [
    "confidence = 1.0 + train_ratings.rating_normal.values * 30.0\n",
    "\n",
    "rating_matrix = sparse.csr_matrix(\n",
    "    (\n",
    "        confidence, \n",
    "        (\n",
    "            train_ratings.item_id.values,\n",
    "            train_ratings.user_id.values\n",
    "        )\n",
    "    ),\n",
    "    shape=(n_items, n_users)\n",
    ")\n",
    "\n",
    "rating_matrix_T = sparse.csr_matrix(\n",
    "    (\n",
    "        np.full(rating_matrix.nnz, 1), \n",
    "        (\n",
    "            train_ratings.user_id.values,\n",
    "            train_ratings.item_id.values\n",
    "        )\n",
    "    ),\n",
    "    shape=(n_users, n_items)\n",
    ")"
   ]
  },
  {
   "cell_type": "code",
   "execution_count": 8,
   "metadata": {},
   "outputs": [
    {
     "name": "stderr",
     "output_type": "stream",
     "text": [
      "WARNING:root:Intel MKL BLAS detected. Its highly recommend to set the environment variable 'export MKL_NUM_THREADS=1' to disable its internal multithreading\n"
     ]
    },
    {
     "data": {
      "application/vnd.jupyter.widget-view+json": {
       "model_id": "dfbfa69e052847a38770aeff291c365f",
       "version_major": 2,
       "version_minor": 0
      },
      "text/plain": [
       "  0%|          | 0/100 [00:00<?, ?it/s]"
      ]
     },
     "metadata": {},
     "output_type": "display_data"
    }
   ],
   "source": [
    "import implicit\n",
    "\n",
    "als = implicit.als.AlternatingLeastSquares(factors=128, \n",
    "                                           calculate_training_loss=True, \n",
    "                                           iterations=100)\n",
    "\n",
    "als.fit(rating_matrix)"
   ]
  },
  {
   "cell_type": "code",
   "execution_count": 9,
   "metadata": {},
   "outputs": [
    {
     "name": "stderr",
     "output_type": "stream",
     "text": [
      "[Parallel(n_jobs=32)]: Using backend MultiprocessingBackend with 32 concurrent workers.\n",
      "[Parallel(n_jobs=32)]: Done 226 tasks      | elapsed:    0.4s\n",
      "[Parallel(n_jobs=32)]: Done 1224 tasks      | elapsed:    2.8s\n",
      "[Parallel(n_jobs=32)]: Done 2624 tasks      | elapsed:    6.3s\n",
      "[Parallel(n_jobs=32)]: Done 4424 tasks      | elapsed:   10.9s\n",
      "[Parallel(n_jobs=32)]: Done 6624 tasks      | elapsed:   16.7s\n",
      "[Parallel(n_jobs=32)]: Done 9224 tasks      | elapsed:   23.1s\n",
      "[Parallel(n_jobs=32)]: Done 12224 tasks      | elapsed:   31.0s\n",
      "[Parallel(n_jobs=32)]: Done 13490 out of 13490 | elapsed:   34.6s finished\n"
     ]
    }
   ],
   "source": [
    "import joblib\n",
    "\n",
    "def predict_als_for_user(user_id):\n",
    "    recommendations = als.recommend(user_id, rating_matrix_T, N=100)\n",
    "    recommended_items = [x for x, _ in recommendations]\n",
    "    recommended_scores = [x for _, x in recommendations]\n",
    "    return user_id, recommended_items, recommended_scores\n",
    "\n",
    "als_prediction_raw = joblib.Parallel(backend='multiprocessing', verbose=1, n_jobs=32)(\n",
    "    joblib.delayed(predict_als_for_user)(u) for u in train.user_id.unique()\n",
    ")\n",
    "\n",
    "als_prediction = pd.DataFrame(als_prediction_raw, columns=['user_id', 'item_id', 'score'])"
   ]
  },
  {
   "cell_type": "code",
   "execution_count": 10,
   "metadata": {},
   "outputs": [
    {
     "name": "stdout",
     "output_type": "stream",
     "text": [
      "Full: {'recall': 0.1289152458611317, 'map': 0.08272440490898608}\n",
      "Test_1: {'recall': 0.057040635626625244, 'map': 0.026369100883496466}\n"
     ]
    }
   ],
   "source": [
    "import my_metrics\n",
    "\n",
    "print('Full:', my_metrics.compute(als_prediction, test))\n",
    "print('Test_1:', my_metrics.compute(als_prediction, test_1))"
   ]
  },
  {
   "cell_type": "code",
   "execution_count": 11,
   "metadata": {},
   "outputs": [
    {
     "name": "stderr",
     "output_type": "stream",
     "text": [
      "[Parallel(n_jobs=32)]: Using backend MultiprocessingBackend with 32 concurrent workers.\n",
      "[Parallel(n_jobs=32)]: Done 224 tasks      | elapsed:    0.1s\n",
      "[Parallel(n_jobs=32)]: Done 4096 tasks      | elapsed:    1.3s\n",
      "[Parallel(n_jobs=32)]: Done 13312 tasks      | elapsed:    3.7s\n",
      "[Parallel(n_jobs=32)]: Done 13490 out of 13490 | elapsed:    3.8s finished\n"
     ]
    }
   ],
   "source": [
    "user2als_prediction = als_prediction.set_index('user_id')\n",
    "\n",
    "\n",
    "def samples_to_df(user_id, positive_samples: list, negative_samples: list) -> pd.DataFrame:\n",
    "    positive = pd.DataFrame({\n",
    "        'user_id': user_id,\n",
    "        'item_id': positive_samples,\n",
    "    }).explode('item_id')\n",
    "    positive['label'] = 1\n",
    "\n",
    "    negative = pd.DataFrame({\n",
    "        'user_id': user_id,\n",
    "        'item_id': negative_samples,\n",
    "    }).explode('item_id')\n",
    "    negative['label'] = 0\n",
    "\n",
    "    samples = pd.concat([\n",
    "        positive,\n",
    "        negative\n",
    "    ])\n",
    "    samples['user_id'] = samples.user_id.values.astype(np.int64)\n",
    "    samples['item_id'] = samples.item_id.values.astype(np.int64)\n",
    "\n",
    "    return samples\n",
    "\n",
    "\n",
    "def generate_samples_for_user(user_id):\n",
    "    candidates = set(np.array(user2als_prediction.loc[user_id].item_id))\n",
    "    valid = set(test_1[test_1.user_id == user_id].item_id.values)\n",
    "    positive_samples = list(candidates.intersection(valid))\n",
    "    negative_samples = list(candidates.difference(valid))\n",
    "\n",
    "    features = samples_to_df(user_id, positive_samples, negative_samples)\n",
    "    \n",
    "    item_ids = features.item_id.values\n",
    "    scores = als.item_factors[item_ids] @ als.user_factors[user_id]\n",
    "    features['score'] = scores\n",
    "    features['rank'] = features['score'].rank(method='dense')\n",
    "\n",
    "    return features\n",
    "\n",
    "stage2_samples = joblib.Parallel(backend='multiprocessing', verbose=1, n_jobs=32)(\n",
    "    joblib.delayed(generate_samples_for_user)(id) for id in train.user_id.unique()\n",
    ")\n",
    "\n",
    "all_samples = pd.concat(stage2_samples)\n",
    "all_samples = all_samples.sample(n=len(all_samples))"
   ]
  },
  {
   "cell_type": "code",
   "execution_count": 12,
   "metadata": {},
   "outputs": [
    {
     "data": {
      "text/html": [
       "<div>\n",
       "<style scoped>\n",
       "    .dataframe tbody tr th:only-of-type {\n",
       "        vertical-align: middle;\n",
       "    }\n",
       "\n",
       "    .dataframe tbody tr th {\n",
       "        vertical-align: top;\n",
       "    }\n",
       "\n",
       "    .dataframe thead th {\n",
       "        text-align: right;\n",
       "    }\n",
       "</style>\n",
       "<table border=\"1\" class=\"dataframe\">\n",
       "  <thead>\n",
       "    <tr style=\"text-align: right;\">\n",
       "      <th></th>\n",
       "      <th>user_id</th>\n",
       "      <th>item_id</th>\n",
       "      <th>label</th>\n",
       "      <th>score</th>\n",
       "      <th>rank</th>\n",
       "    </tr>\n",
       "  </thead>\n",
       "  <tbody>\n",
       "    <tr>\n",
       "      <th>91</th>\n",
       "      <td>1656</td>\n",
       "      <td>42471</td>\n",
       "      <td>0</td>\n",
       "      <td>0.040552</td>\n",
       "      <td>26.0</td>\n",
       "    </tr>\n",
       "    <tr>\n",
       "      <th>36</th>\n",
       "      <td>9443</td>\n",
       "      <td>31577</td>\n",
       "      <td>0</td>\n",
       "      <td>0.050149</td>\n",
       "      <td>51.0</td>\n",
       "    </tr>\n",
       "    <tr>\n",
       "      <th>2</th>\n",
       "      <td>12797</td>\n",
       "      <td>11269</td>\n",
       "      <td>0</td>\n",
       "      <td>0.191473</td>\n",
       "      <td>29.0</td>\n",
       "    </tr>\n",
       "    <tr>\n",
       "      <th>86</th>\n",
       "      <td>2786</td>\n",
       "      <td>24039</td>\n",
       "      <td>0</td>\n",
       "      <td>0.086491</td>\n",
       "      <td>79.0</td>\n",
       "    </tr>\n",
       "    <tr>\n",
       "      <th>30</th>\n",
       "      <td>1786</td>\n",
       "      <td>16981</td>\n",
       "      <td>0</td>\n",
       "      <td>0.060783</td>\n",
       "      <td>27.0</td>\n",
       "    </tr>\n",
       "    <tr>\n",
       "      <th>...</th>\n",
       "      <td>...</td>\n",
       "      <td>...</td>\n",
       "      <td>...</td>\n",
       "      <td>...</td>\n",
       "      <td>...</td>\n",
       "    </tr>\n",
       "    <tr>\n",
       "      <th>29</th>\n",
       "      <td>13360</td>\n",
       "      <td>26181</td>\n",
       "      <td>0</td>\n",
       "      <td>0.028021</td>\n",
       "      <td>20.0</td>\n",
       "    </tr>\n",
       "    <tr>\n",
       "      <th>26</th>\n",
       "      <td>448</td>\n",
       "      <td>9271</td>\n",
       "      <td>0</td>\n",
       "      <td>0.126112</td>\n",
       "      <td>58.0</td>\n",
       "    </tr>\n",
       "    <tr>\n",
       "      <th>57</th>\n",
       "      <td>6129</td>\n",
       "      <td>46253</td>\n",
       "      <td>0</td>\n",
       "      <td>0.075923</td>\n",
       "      <td>37.0</td>\n",
       "    </tr>\n",
       "    <tr>\n",
       "      <th>68</th>\n",
       "      <td>3791</td>\n",
       "      <td>17322</td>\n",
       "      <td>0</td>\n",
       "      <td>0.065888</td>\n",
       "      <td>3.0</td>\n",
       "    </tr>\n",
       "    <tr>\n",
       "      <th>62</th>\n",
       "      <td>12386</td>\n",
       "      <td>39839</td>\n",
       "      <td>0</td>\n",
       "      <td>0.057999</td>\n",
       "      <td>45.0</td>\n",
       "    </tr>\n",
       "  </tbody>\n",
       "</table>\n",
       "<p>1349000 rows × 5 columns</p>\n",
       "</div>"
      ],
      "text/plain": [
       "    user_id  item_id  label     score  rank\n",
       "91     1656    42471      0  0.040552  26.0\n",
       "36     9443    31577      0  0.050149  51.0\n",
       "2     12797    11269      0  0.191473  29.0\n",
       "86     2786    24039      0  0.086491  79.0\n",
       "30     1786    16981      0  0.060783  27.0\n",
       "..      ...      ...    ...       ...   ...\n",
       "29    13360    26181      0  0.028021  20.0\n",
       "26      448     9271      0  0.126112  58.0\n",
       "57     6129    46253      0  0.075923  37.0\n",
       "68     3791    17322      0  0.065888   3.0\n",
       "62    12386    39839      0  0.057999  45.0\n",
       "\n",
       "[1349000 rows x 5 columns]"
      ]
     },
     "execution_count": 12,
     "metadata": {},
     "output_type": "execute_result"
    }
   ],
   "source": [
    "all_samples"
   ]
  },
  {
   "cell_type": "code",
   "execution_count": 13,
   "metadata": {},
   "outputs": [
    {
     "name": "stdout",
     "output_type": "stream",
     "text": [
      "w_0 = 0.9905940908609552\n",
      "w_1 = 0.009405909139044795\n"
     ]
    }
   ],
   "source": [
    "from sklearn.model_selection import train_test_split\n",
    "\n",
    "selected_features = [\n",
    "    'score',\n",
    "    'rank',\n",
    "]\n",
    "selected_cat_features = []\n",
    "\n",
    "all_features = all_samples[selected_features + ['label']]\n",
    "all_features_X = all_features.drop(columns=['label'])\n",
    "all_features_Y = all_features[['label']]\n",
    "X_train, X_test, y_train, y_test = train_test_split(all_features_X, all_features_Y, test_size=0.3)\n",
    "\n",
    "value_count_01 = y_train.value_counts()\n",
    "w0 = value_count_01[0] / len(y_train)\n",
    "w1 = value_count_01[1] / len(y_train)\n",
    "print('w_0 =', w0)\n",
    "print('w_1 =', w1)"
   ]
  },
  {
   "cell_type": "code",
   "execution_count": 14,
   "metadata": {},
   "outputs": [
    {
     "name": "stdout",
     "output_type": "stream",
     "text": [
      "0:\tlearn: 0.7188761\ttest: 0.7199753\tbest: 0.7199753 (0)\ttotal: 80.8ms\tremaining: 40.3s\n",
      "1:\tlearn: 0.7188761\ttest: 0.7199753\tbest: 0.7199753 (0)\ttotal: 107ms\tremaining: 26.7s\n",
      "2:\tlearn: 0.7188761\ttest: 0.7199753\tbest: 0.7199753 (0)\ttotal: 131ms\tremaining: 21.7s\n",
      "3:\tlearn: 0.7182200\ttest: 0.7213979\tbest: 0.7213979 (3)\ttotal: 157ms\tremaining: 19.4s\n",
      "4:\tlearn: 0.7195811\ttest: 0.7217798\tbest: 0.7217798 (4)\ttotal: 184ms\tremaining: 18.2s\n",
      "5:\tlearn: 0.7195811\ttest: 0.7217798\tbest: 0.7217798 (4)\ttotal: 209ms\tremaining: 17.2s\n",
      "6:\tlearn: 0.7196971\ttest: 0.7219332\tbest: 0.7219332 (6)\ttotal: 234ms\tremaining: 16.5s\n",
      "7:\tlearn: 0.7188217\ttest: 0.7230870\tbest: 0.7230870 (7)\ttotal: 256ms\tremaining: 15.8s\n",
      "8:\tlearn: 0.7202794\ttest: 0.7224495\tbest: 0.7230870 (7)\ttotal: 279ms\tremaining: 15.2s\n",
      "9:\tlearn: 0.7202457\ttest: 0.7220043\tbest: 0.7230870 (7)\ttotal: 308ms\tremaining: 15.1s\n",
      "10:\tlearn: 0.7202575\ttest: 0.7219145\tbest: 0.7230870 (7)\ttotal: 332ms\tremaining: 14.7s\n",
      "11:\tlearn: 0.7202105\ttest: 0.7224308\tbest: 0.7230870 (7)\ttotal: 357ms\tremaining: 14.5s\n",
      "12:\tlearn: 0.7203784\ttest: 0.7224046\tbest: 0.7230870 (7)\ttotal: 384ms\tremaining: 14.4s\n",
      "13:\tlearn: 0.7205285\ttest: 0.7223584\tbest: 0.7230870 (7)\ttotal: 410ms\tremaining: 14.2s\n",
      "14:\tlearn: 0.7206297\ttest: 0.7232977\tbest: 0.7232977 (14)\ttotal: 441ms\tremaining: 14.3s\n",
      "15:\tlearn: 0.7204427\ttest: 0.7226553\tbest: 0.7232977 (14)\ttotal: 465ms\tremaining: 14.1s\n",
      "16:\tlearn: 0.7204085\ttest: 0.7228823\tbest: 0.7232977 (14)\ttotal: 493ms\tremaining: 14s\n",
      "17:\tlearn: 0.7203614\ttest: 0.7230956\tbest: 0.7232977 (14)\ttotal: 516ms\tremaining: 13.8s\n",
      "18:\tlearn: 0.7204085\ttest: 0.7228823\tbest: 0.7232977 (14)\ttotal: 538ms\tremaining: 13.6s\n",
      "19:\tlearn: 0.7204085\ttest: 0.7228823\tbest: 0.7232977 (14)\ttotal: 560ms\tremaining: 13.4s\n",
      "20:\tlearn: 0.7205001\ttest: 0.7229622\tbest: 0.7232977 (14)\ttotal: 584ms\tremaining: 13.3s\n",
      "21:\tlearn: 0.7207919\ttest: 0.7232416\tbest: 0.7232977 (14)\ttotal: 610ms\tremaining: 13.3s\n",
      "22:\tlearn: 0.7205216\ttest: 0.7221066\tbest: 0.7232977 (14)\ttotal: 631ms\tremaining: 13.1s\n",
      "23:\tlearn: 0.7204932\ttest: 0.7218758\tbest: 0.7232977 (14)\ttotal: 658ms\tremaining: 13.1s\n",
      "24:\tlearn: 0.7206191\ttest: 0.7218272\tbest: 0.7232977 (14)\ttotal: 681ms\tremaining: 12.9s\n",
      "25:\tlearn: 0.7203329\ttest: 0.7221727\tbest: 0.7232977 (14)\ttotal: 707ms\tremaining: 12.9s\n",
      "26:\tlearn: 0.7204560\ttest: 0.7223598\tbest: 0.7232977 (14)\ttotal: 731ms\tremaining: 12.8s\n",
      "27:\tlearn: 0.7204841\ttest: 0.7221452\tbest: 0.7232977 (14)\ttotal: 754ms\tremaining: 12.7s\n",
      "28:\tlearn: 0.7206279\ttest: 0.7223535\tbest: 0.7232977 (14)\ttotal: 779ms\tremaining: 12.7s\n",
      "29:\tlearn: 0.7206279\ttest: 0.7223535\tbest: 0.7232977 (14)\ttotal: 802ms\tremaining: 12.6s\n",
      "30:\tlearn: 0.7203530\ttest: 0.7224084\tbest: 0.7232977 (14)\ttotal: 833ms\tremaining: 12.6s\n",
      "31:\tlearn: 0.7204587\ttest: 0.7225793\tbest: 0.7232977 (14)\ttotal: 864ms\tremaining: 12.6s\n",
      "32:\tlearn: 0.7204609\ttest: 0.7220380\tbest: 0.7232977 (14)\ttotal: 891ms\tremaining: 12.6s\n",
      "33:\tlearn: 0.7202822\ttest: 0.7224072\tbest: 0.7232977 (14)\ttotal: 918ms\tremaining: 12.6s\n",
      "34:\tlearn: 0.7203973\ttest: 0.7224284\tbest: 0.7232977 (14)\ttotal: 944ms\tremaining: 12.5s\n",
      "35:\tlearn: 0.7204849\ttest: 0.7223610\tbest: 0.7232977 (14)\ttotal: 967ms\tremaining: 12.5s\n",
      "36:\tlearn: 0.7205143\ttest: 0.7223897\tbest: 0.7232977 (14)\ttotal: 993ms\tremaining: 12.4s\n",
      "37:\tlearn: 0.7205913\ttest: 0.7222114\tbest: 0.7232977 (14)\ttotal: 1.02s\tremaining: 12.4s\n",
      "38:\tlearn: 0.7205590\ttest: 0.7222288\tbest: 0.7232977 (14)\ttotal: 1.04s\tremaining: 12.3s\n",
      "39:\tlearn: 0.7204742\ttest: 0.7222500\tbest: 0.7232977 (14)\ttotal: 1.06s\tremaining: 12.2s\n",
      "40:\tlearn: 0.7205731\ttest: 0.7222139\tbest: 0.7232977 (14)\ttotal: 1.09s\tremaining: 12.2s\n",
      "41:\tlearn: 0.7206839\ttest: 0.7223872\tbest: 0.7232977 (14)\ttotal: 1.12s\tremaining: 12.2s\n",
      "42:\tlearn: 0.7206907\ttest: 0.7222949\tbest: 0.7232977 (14)\ttotal: 1.14s\tremaining: 12.1s\n",
      "43:\tlearn: 0.7206020\ttest: 0.7221403\tbest: 0.7232977 (14)\ttotal: 1.16s\tremaining: 12.1s\n",
      "44:\tlearn: 0.7206645\ttest: 0.7222002\tbest: 0.7232977 (14)\ttotal: 1.19s\tremaining: 12s\n",
      "45:\tlearn: 0.7205181\ttest: 0.7221166\tbest: 0.7232977 (14)\ttotal: 1.21s\tremaining: 11.9s\n",
      "46:\tlearn: 0.7205249\ttest: 0.7221790\tbest: 0.7232977 (14)\ttotal: 1.23s\tremaining: 11.9s\n",
      "47:\tlearn: 0.7204607\ttest: 0.7221104\tbest: 0.7232977 (14)\ttotal: 1.26s\tremaining: 11.8s\n",
      "48:\tlearn: 0.7204057\ttest: 0.7220667\tbest: 0.7232977 (14)\ttotal: 1.28s\tremaining: 11.8s\n",
      "49:\tlearn: 0.7205126\ttest: 0.7220704\tbest: 0.7232977 (14)\ttotal: 1.31s\tremaining: 11.8s\n",
      "50:\tlearn: 0.7203503\ttest: 0.7220156\tbest: 0.7232977 (14)\ttotal: 1.33s\tremaining: 11.7s\n",
      "51:\tlearn: 0.7203503\ttest: 0.7220156\tbest: 0.7232977 (14)\ttotal: 1.36s\tremaining: 11.7s\n",
      "52:\tlearn: 0.7204795\ttest: 0.7218884\tbest: 0.7232977 (14)\ttotal: 1.38s\tremaining: 11.6s\n",
      "53:\tlearn: 0.7204741\ttest: 0.7218846\tbest: 0.7232977 (14)\ttotal: 1.41s\tremaining: 11.6s\n",
      "54:\tlearn: 0.7204576\ttest: 0.7218696\tbest: 0.7232977 (14)\ttotal: 1.43s\tremaining: 11.6s\n",
      "55:\tlearn: 0.7204672\ttest: 0.7223660\tbest: 0.7232977 (14)\ttotal: 1.45s\tremaining: 11.5s\n",
      "56:\tlearn: 0.7206146\ttest: 0.7224297\tbest: 0.7232977 (14)\ttotal: 1.48s\tremaining: 11.5s\n",
      "57:\tlearn: 0.7204034\ttest: 0.7222263\tbest: 0.7232977 (14)\ttotal: 1.51s\tremaining: 11.5s\n",
      "58:\tlearn: 0.7208139\ttest: 0.7224022\tbest: 0.7232977 (14)\ttotal: 1.53s\tremaining: 11.5s\n",
      "59:\tlearn: 0.7208658\ttest: 0.7222650\tbest: 0.7232977 (14)\ttotal: 1.56s\tremaining: 11.4s\n",
      "60:\tlearn: 0.7208400\ttest: 0.7221640\tbest: 0.7232977 (14)\ttotal: 1.58s\tremaining: 11.4s\n",
      "61:\tlearn: 0.7208400\ttest: 0.7221640\tbest: 0.7232977 (14)\ttotal: 1.61s\tremaining: 11.4s\n",
      "62:\tlearn: 0.7208176\ttest: 0.7221378\tbest: 0.7232977 (14)\ttotal: 1.63s\tremaining: 11.3s\n",
      "63:\tlearn: 0.7209387\ttest: 0.7220255\tbest: 0.7232977 (14)\ttotal: 1.66s\tremaining: 11.3s\n",
      "64:\tlearn: 0.7209150\ttest: 0.7222089\tbest: 0.7232977 (14)\ttotal: 1.68s\tremaining: 11.2s\n",
      "Stopped by overfitting detector  (50 iterations wait)\n",
      "\n",
      "bestTest = 0.7232976745\n",
      "bestIteration = 14\n",
      "\n",
      "Shrink model to first 15 iterations.\n"
     ]
    },
    {
     "data": {
      "text/plain": [
       "<catboost.core.CatBoostClassifier at 0x7f4f4c2cee80>"
      ]
     },
     "execution_count": 14,
     "metadata": {},
     "output_type": "execute_result"
    }
   ],
   "source": [
    "from catboost import Pool as CatBoostPool\n",
    "from catboost import CatBoostClassifier\n",
    "from catboost.metrics import BalancedAccuracy \n",
    "from catboost.metrics import Logloss \n",
    "\n",
    "cb_train_pool = CatBoostPool(X_train, y_train, cat_features=selected_cat_features)\n",
    "cb_test_pool = CatBoostPool(X_test, y_test, cat_features=selected_cat_features)\n",
    "\n",
    "cb_params = {\n",
    "    'n_estimators': 500,\n",
    "    'depth': 6,\n",
    "    'class_weights': [w1, w0], \n",
    "    'objective': Logloss(), \n",
    "    'eval_metric': BalancedAccuracy(),\n",
    "    'early_stopping_rounds': 50,\n",
    "    'learning_rate': 0.1\n",
    "}\n",
    "cb_classifier = CatBoostClassifier(**cb_params)\n",
    "cb_classifier.fit(cb_train_pool, eval_set=cb_test_pool)"
   ]
  },
  {
   "cell_type": "code",
   "execution_count": 15,
   "metadata": {},
   "outputs": [
    {
     "name": "stdout",
     "output_type": "stream",
     "text": [
      "[('score', 93.98751780487117), ('rank', 6.012482195128832)]\n"
     ]
    },
    {
     "data": {
      "text/plain": [
       "<sklearn.metrics._plot.confusion_matrix.ConfusionMatrixDisplay at 0x7f4f4c378490>"
      ]
     },
     "execution_count": 15,
     "metadata": {},
     "output_type": "execute_result"
    },
    {
     "data": {
      "image/png": "[encoded data removed]",
      "text/plain": [
       "<Figure size 432x288 with 2 Axes>"
      ]
     },
     "metadata": {
      "needs_background": "light"
     },
     "output_type": "display_data"
    }
   ],
   "source": [
    "print(sorted(zip(X_train.columns, cb_classifier.feature_importances_), key=lambda x: -x[1]))\n",
    "\n",
    "cb_predictions = cb_classifier.predict(X_test)\n",
    "\n",
    "from sklearn.metrics import confusion_matrix, ConfusionMatrixDisplay\n",
    "cm = confusion_matrix(y_test, cb_predictions, normalize='true')\n",
    "ConfusionMatrixDisplay(confusion_matrix=cm).plot()"
   ]
  },
  {
   "cell_type": "code",
   "execution_count": 16,
   "metadata": {},
   "outputs": [
    {
     "name": "stdout",
     "output_type": "stream",
     "text": [
      "0:\tlearn: 0.7192046\ttotal: 27.8ms\tremaining: 390ms\n",
      "1:\tlearn: 0.7192046\ttotal: 52.4ms\tremaining: 340ms\n",
      "2:\tlearn: 0.7192046\ttotal: 76.5ms\tremaining: 306ms\n",
      "3:\tlearn: 0.7199825\ttotal: 100ms\tremaining: 275ms\n",
      "4:\tlearn: 0.7202615\ttotal: 123ms\tremaining: 247ms\n",
      "5:\tlearn: 0.7199432\ttotal: 146ms\tremaining: 220ms\n",
      "6:\tlearn: 0.7202505\ttotal: 172ms\tremaining: 197ms\n",
      "7:\tlearn: 0.7199717\ttotal: 195ms\tremaining: 171ms\n",
      "8:\tlearn: 0.7202220\ttotal: 218ms\tremaining: 145ms\n",
      "9:\tlearn: 0.7204388\ttotal: 242ms\tremaining: 121ms\n",
      "10:\tlearn: 0.7205988\ttotal: 264ms\tremaining: 96ms\n",
      "11:\tlearn: 0.7205988\ttotal: 287ms\tremaining: 71.9ms\n",
      "12:\tlearn: 0.7208633\ttotal: 310ms\tremaining: 47.7ms\n",
      "13:\tlearn: 0.7208318\ttotal: 333ms\tremaining: 23.8ms\n",
      "14:\tlearn: 0.7208682\ttotal: 404ms\tremaining: 0us\n"
     ]
    },
    {
     "data": {
      "text/plain": [
       "<catboost.core.CatBoostClassifier at 0x7f4df9408310>"
      ]
     },
     "execution_count": 16,
     "metadata": {},
     "output_type": "execute_result"
    }
   ],
   "source": [
    "cb_params.update({ 'n_estimators': 15 })\n",
    "cb_classifier_final = CatBoostClassifier(**cb_params)\n",
    "cb_final_pool = CatBoostPool(all_features_X, all_features_Y, cat_features=selected_cat_features)\n",
    "cb_classifier_final.fit(cb_final_pool)"
   ]
  },
  {
   "cell_type": "code",
   "execution_count": 17,
   "metadata": {},
   "outputs": [
    {
     "name": "stderr",
     "output_type": "stream",
     "text": [
      "[Parallel(n_jobs=32)]: Using backend MultiprocessingBackend with 32 concurrent workers.\n",
      "[Parallel(n_jobs=32)]: Done 224 tasks      | elapsed:    0.8s\n",
      "[Parallel(n_jobs=32)]: Done 1224 tasks      | elapsed:    2.4s\n",
      "[Parallel(n_jobs=32)]: Done 2624 tasks      | elapsed:    4.9s\n",
      "[Parallel(n_jobs=32)]: Done 4424 tasks      | elapsed:    7.9s\n",
      "[Parallel(n_jobs=32)]: Done 6624 tasks      | elapsed:   11.4s\n",
      "[Parallel(n_jobs=32)]: Done 9224 tasks      | elapsed:   15.2s\n",
      "[Parallel(n_jobs=32)]: Done 12224 tasks      | elapsed:   19.6s\n",
      "[Parallel(n_jobs=32)]: Done 13427 out of 13490 | elapsed:   21.5s remaining:    0.1s\n",
      "[Parallel(n_jobs=32)]: Done 13490 out of 13490 | elapsed:   21.5s finished\n"
     ]
    }
   ],
   "source": [
    "seen_items = train.groupby('user_id').agg({'item_id': set}).item_id\n",
    "\n",
    "def filter_seen_items(user_id, recommended_items):\n",
    "    user_seen_items = seen_items.loc[user_id]\n",
    "    final_recommended_items = []\n",
    "    for i in recommended_items:\n",
    "        if i not in user_seen_items:\n",
    "            final_recommended_items.append(i)\n",
    "    return final_recommended_items\n",
    "\n",
    "\n",
    "def features2recomendations(user_id, recommended_items, features):\n",
    "    probs = cb_classifier_final.predict_proba(features, thread_count=1)[:, 1]\n",
    "    ranks = np.argsort(-probs)\n",
    "    filtered_items = filter_seen_items(user_id, recommended_items[ranks])\n",
    "    return filtered_items \n",
    "\n",
    "\n",
    "def predict_als_catboost_for_user(user_id):\n",
    "    recomendations = als.recommend(user_id, rating_matrix_T, N=100)\n",
    "    recommended_items = np.array([x for x, _ in recomendations])\n",
    "    recommended_scores = np.array([x for _, x in recomendations])\n",
    "    recommended_ranks = np.argsort(recommended_scores) + 1\n",
    "\n",
    "    features = pd.DataFrame({\n",
    "        'score': recommended_scores,\n",
    "        'rank': recommended_ranks\n",
    "    })[selected_features]\n",
    "\n",
    "    final_recomendations = features2recomendations(user_id, recommended_items, features)\n",
    "    return user_id, final_recomendations\n",
    "\n",
    "\n",
    "als_catboost_prediction = joblib.Parallel(backend='multiprocessing', verbose=1, n_jobs=32)(\n",
    "    joblib.delayed(predict_als_catboost_for_user)(u) for u in test_1.user_id.unique()\n",
    ")\n",
    "\n",
    "als_catboost_prediction = pd.DataFrame(als_catboost_prediction, columns=['user_id', 'item_id'])"
   ]
  },
  {
   "cell_type": "code",
   "execution_count": 18,
   "metadata": {},
   "outputs": [
    {
     "data": {
      "text/plain": [
       "{'recall': 0.1321917469730665, 'map': 0.0896684492922447}"
      ]
     },
     "execution_count": 18,
     "metadata": {},
     "output_type": "execute_result"
    }
   ],
   "source": [
    "my_metrics.compute(als_catboost_prediction, test)"
   ]
  }
 ],
 "metadata": {
  "interpreter": {
   "hash": "94c34a5abb8020cb6544a625aa41b8bddac6c874d1983a8bde38d28611831409"
  },
  "kernelspec": {
   "display_name": "Python 3.9.7 64-bit ('hse': conda)",
   "language": "python",
   "name": "python3"
  },
  "language_info": {
   "codemirror_mode": {
    "name": "ipython",
    "version": 3
   },
   "file_extension": ".py",
   "mimetype": "text/x-python",
   "name": "python",
   "nbconvert_exporter": "python",
   "pygments_lexer": "ipython3",
   "version": "3.9.7"
  },
  "orig_nbformat": 4
 },
 "nbformat": 4,
 "nbformat_minor": 2
}
