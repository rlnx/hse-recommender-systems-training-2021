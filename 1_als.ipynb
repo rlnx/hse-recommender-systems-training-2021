{
 "cells": [
  {
   "cell_type": "code",
   "execution_count": 2,
   "metadata": {},
   "outputs": [],
   "source": [
    "import numpy as np\n",
    "import pandas as pd\n",
    "import scipy.sparse as sparse"
   ]
  },
  {
   "cell_type": "code",
   "execution_count": 3,
   "metadata": {},
   "outputs": [],
   "source": [
    "train = pd.read_parquet('data/train.par')\n",
    "test = pd.read_parquet('data/test.par')\n",
    "items = pd.read_parquet('data/items.par')"
   ]
  },
  {
   "cell_type": "code",
   "execution_count": 13,
   "metadata": {},
   "outputs": [
    {
     "data": {
      "text/html": [
       "<div>\n",
       "<style scoped>\n",
       "    .dataframe tbody tr th:only-of-type {\n",
       "        vertical-align: middle;\n",
       "    }\n",
       "\n",
       "    .dataframe tbody tr th {\n",
       "        vertical-align: top;\n",
       "    }\n",
       "\n",
       "    .dataframe thead th {\n",
       "        text-align: right;\n",
       "    }\n",
       "</style>\n",
       "<table border=\"1\" class=\"dataframe\">\n",
       "  <thead>\n",
       "    <tr style=\"text-align: right;\">\n",
       "      <th></th>\n",
       "      <th>user_id</th>\n",
       "      <th>item_id</th>\n",
       "    </tr>\n",
       "  </thead>\n",
       "  <tbody>\n",
       "    <tr>\n",
       "      <th>0</th>\n",
       "      <td>4385</td>\n",
       "      <td>13532</td>\n",
       "    </tr>\n",
       "    <tr>\n",
       "      <th>1</th>\n",
       "      <td>13327</td>\n",
       "      <td>13532</td>\n",
       "    </tr>\n",
       "    <tr>\n",
       "      <th>2</th>\n",
       "      <td>2785</td>\n",
       "      <td>14098</td>\n",
       "    </tr>\n",
       "    <tr>\n",
       "      <th>3</th>\n",
       "      <td>386</td>\n",
       "      <td>14098</td>\n",
       "    </tr>\n",
       "    <tr>\n",
       "      <th>4</th>\n",
       "      <td>2806</td>\n",
       "      <td>14098</td>\n",
       "    </tr>\n",
       "    <tr>\n",
       "      <th>...</th>\n",
       "      <td>...</td>\n",
       "      <td>...</td>\n",
       "    </tr>\n",
       "    <tr>\n",
       "      <th>712378</th>\n",
       "      <td>3154</td>\n",
       "      <td>49206</td>\n",
       "    </tr>\n",
       "    <tr>\n",
       "      <th>712379</th>\n",
       "      <td>3551</td>\n",
       "      <td>49500</td>\n",
       "    </tr>\n",
       "    <tr>\n",
       "      <th>712380</th>\n",
       "      <td>12970</td>\n",
       "      <td>50079</td>\n",
       "    </tr>\n",
       "    <tr>\n",
       "      <th>712381</th>\n",
       "      <td>5337</td>\n",
       "      <td>50201</td>\n",
       "    </tr>\n",
       "    <tr>\n",
       "      <th>712382</th>\n",
       "      <td>601</td>\n",
       "      <td>50201</td>\n",
       "    </tr>\n",
       "  </tbody>\n",
       "</table>\n",
       "<p>712383 rows × 2 columns</p>\n",
       "</div>"
      ],
      "text/plain": [
       "        user_id  item_id\n",
       "0          4385    13532\n",
       "1         13327    13532\n",
       "2          2785    14098\n",
       "3           386    14098\n",
       "4          2806    14098\n",
       "...         ...      ...\n",
       "712378     3154    49206\n",
       "712379     3551    49500\n",
       "712380    12970    50079\n",
       "712381     5337    50201\n",
       "712382      601    50201\n",
       "\n",
       "[712383 rows x 2 columns]"
      ]
     },
     "execution_count": 13,
     "metadata": {},
     "output_type": "execute_result"
    }
   ],
   "source": [
    "train"
   ]
  },
  {
   "cell_type": "code",
   "execution_count": 7,
   "metadata": {},
   "outputs": [
    {
     "data": {
      "text/html": [
       "<div>\n",
       "<style scoped>\n",
       "    .dataframe tbody tr th:only-of-type {\n",
       "        vertical-align: middle;\n",
       "    }\n",
       "\n",
       "    .dataframe tbody tr th {\n",
       "        vertical-align: top;\n",
       "    }\n",
       "\n",
       "    .dataframe thead th {\n",
       "        text-align: right;\n",
       "    }\n",
       "</style>\n",
       "<table border=\"1\" class=\"dataframe\">\n",
       "  <thead>\n",
       "    <tr style=\"text-align: right;\">\n",
       "      <th></th>\n",
       "      <th>item_id</th>\n",
       "      <th>title</th>\n",
       "      <th>brand</th>\n",
       "      <th>category</th>\n",
       "      <th>price</th>\n",
       "    </tr>\n",
       "  </thead>\n",
       "  <tbody>\n",
       "    <tr>\n",
       "      <th>0</th>\n",
       "      <td>15018</td>\n",
       "      <td>Buzz Lightyear Jet Pack</td>\n",
       "      <td></td>\n",
       "      <td>[Clothing, Shoes &amp; Jewelry, Costumes &amp; Accesso...</td>\n",
       "      <td>$7.41</td>\n",
       "    </tr>\n",
       "    <tr>\n",
       "      <th>1</th>\n",
       "      <td>15576</td>\n",
       "      <td>Converse Chuck Taylor All Star Canvas Low Top ...</td>\n",
       "      <td></td>\n",
       "      <td>[Clothing, Shoes &amp; Jewelry, Men, Shoes, Fashio...</td>\n",
       "      <td>$18.29 - $189.99</td>\n",
       "    </tr>\n",
       "    <tr>\n",
       "      <th>2</th>\n",
       "      <td>15580</td>\n",
       "      <td>Converse Chuck Taylor All Star High Top</td>\n",
       "      <td></td>\n",
       "      <td>[Clothing, Shoes &amp; Jewelry, Men, Shoes, Fashio...</td>\n",
       "      <td>$29.55 - $160.95</td>\n",
       "    </tr>\n",
       "    <tr>\n",
       "      <th>3</th>\n",
       "      <td>15603</td>\n",
       "      <td>Buxton Heiress Double Cardex Wallet</td>\n",
       "      <td>Buxton</td>\n",
       "      <td>[Clothing, Shoes &amp; Jewelry, Women, Accessories...</td>\n",
       "      <td>$15.00</td>\n",
       "    </tr>\n",
       "    <tr>\n",
       "      <th>4</th>\n",
       "      <td>15604</td>\n",
       "      <td>Buxton Heiress Ensemble Clutch Wallet</td>\n",
       "      <td>Buxton</td>\n",
       "      <td>[Clothing, Shoes &amp; Jewelry, Women, Accessories...</td>\n",
       "      <td>$19.99</td>\n",
       "    </tr>\n",
       "    <tr>\n",
       "      <th>...</th>\n",
       "      <td>...</td>\n",
       "      <td>...</td>\n",
       "      <td>...</td>\n",
       "      <td>...</td>\n",
       "      <td>...</td>\n",
       "    </tr>\n",
       "    <tr>\n",
       "      <th>53023</th>\n",
       "      <td>50828</td>\n",
       "      <td>Bnext 3D VR Headset Virtual Reality Glasses fo...</td>\n",
       "      <td>Bnext</td>\n",
       "      <td>[Cell Phones &amp; Accessories, Accessories, Virtu...</td>\n",
       "      <td></td>\n",
       "    </tr>\n",
       "    <tr>\n",
       "      <th>53024</th>\n",
       "      <td>50835</td>\n",
       "      <td>EXSHOW Car Mount,Universal Windshield Dashboar...</td>\n",
       "      <td>EXSHOW</td>\n",
       "      <td>[Cell Phones &amp; Accessories, Accessories, Car A...</td>\n",
       "      <td>$16.99</td>\n",
       "    </tr>\n",
       "    <tr>\n",
       "      <th>53025</th>\n",
       "      <td>50844</td>\n",
       "      <td>Car Holder Universal Windshield Cell Phone Hol...</td>\n",
       "      <td>POY</td>\n",
       "      <td>[Cell Phones &amp; Accessories, Accessories, Car A...</td>\n",
       "      <td></td>\n",
       "    </tr>\n",
       "    <tr>\n",
       "      <th>53026</th>\n",
       "      <td>50854</td>\n",
       "      <td>Aduro Solid-Grip Phone Holder for Desk - Adjus...</td>\n",
       "      <td>Aduro</td>\n",
       "      <td>[Cell Phones &amp; Accessories, Accessories, Mount...</td>\n",
       "      <td>$9.99</td>\n",
       "    </tr>\n",
       "    <tr>\n",
       "      <th>53027</th>\n",
       "      <td>50862</td>\n",
       "      <td>DEEGO Nylon Micro cable-002 ChefzBest Screen P...</td>\n",
       "      <td>DEEGO</td>\n",
       "      <td>[Cell Phones &amp; Accessories, Accessories, Cables]</td>\n",
       "      <td></td>\n",
       "    </tr>\n",
       "  </tbody>\n",
       "</table>\n",
       "<p>53028 rows × 5 columns</p>\n",
       "</div>"
      ],
      "text/plain": [
       "       item_id                                              title   brand  \\\n",
       "0        15018                            Buzz Lightyear Jet Pack           \n",
       "1        15576  Converse Chuck Taylor All Star Canvas Low Top ...           \n",
       "2        15580            Converse Chuck Taylor All Star High Top           \n",
       "3        15603                Buxton Heiress Double Cardex Wallet  Buxton   \n",
       "4        15604              Buxton Heiress Ensemble Clutch Wallet  Buxton   \n",
       "...        ...                                                ...     ...   \n",
       "53023    50828  Bnext 3D VR Headset Virtual Reality Glasses fo...   Bnext   \n",
       "53024    50835  EXSHOW Car Mount,Universal Windshield Dashboar...  EXSHOW   \n",
       "53025    50844  Car Holder Universal Windshield Cell Phone Hol...     POY   \n",
       "53026    50854  Aduro Solid-Grip Phone Holder for Desk - Adjus...   Aduro   \n",
       "53027    50862  DEEGO Nylon Micro cable-002 ChefzBest Screen P...   DEEGO   \n",
       "\n",
       "                                                category             price  \n",
       "0      [Clothing, Shoes & Jewelry, Costumes & Accesso...             $7.41  \n",
       "1      [Clothing, Shoes & Jewelry, Men, Shoes, Fashio...  $18.29 - $189.99  \n",
       "2      [Clothing, Shoes & Jewelry, Men, Shoes, Fashio...  $29.55 - $160.95  \n",
       "3      [Clothing, Shoes & Jewelry, Women, Accessories...            $15.00  \n",
       "4      [Clothing, Shoes & Jewelry, Women, Accessories...            $19.99  \n",
       "...                                                  ...               ...  \n",
       "53023  [Cell Phones & Accessories, Accessories, Virtu...                    \n",
       "53024  [Cell Phones & Accessories, Accessories, Car A...            $16.99  \n",
       "53025  [Cell Phones & Accessories, Accessories, Car A...                    \n",
       "53026  [Cell Phones & Accessories, Accessories, Mount...             $9.99  \n",
       "53027   [Cell Phones & Accessories, Accessories, Cables]                    \n",
       "\n",
       "[53028 rows x 5 columns]"
      ]
     },
     "execution_count": 7,
     "metadata": {},
     "output_type": "execute_result"
    }
   ],
   "source": [
    "items"
   ]
  },
  {
   "cell_type": "code",
   "execution_count": 8,
   "metadata": {},
   "outputs": [],
   "source": [
    "items.drop_duplicates(subset=['item_id'], inplace=True)"
   ]
  },
  {
   "cell_type": "markdown",
   "metadata": {},
   "source": [
    "## Top-Popular Model"
   ]
  },
  {
   "cell_type": "code",
   "execution_count": 9,
   "metadata": {},
   "outputs": [],
   "source": [
    "def top_popular(interactions: pd.DataFrame, k=10):\n",
    "    item_popularity = interactions.groupby('item_id').size().reset_index(name='popularity')\n",
    "    top_popular = item_popularity.sort_values('popularity', ascending=False).head(k).item_id.values\n",
    "    prediction = interactions[['user_id']].drop_duplicates(ignore_index=True)\n",
    "    prediction['item_id'] = prediction.user_id.apply(lambda x: top_popular)\n",
    "    return prediction\n",
    "\n",
    "toppop_prediction = top_popular(train)"
   ]
  },
  {
   "cell_type": "code",
   "execution_count": 10,
   "metadata": {},
   "outputs": [
    {
     "data": {
      "text/plain": [
       "{'recall': 0.009369903632320238, 'map': 0.002193609022556391}"
      ]
     },
     "execution_count": 10,
     "metadata": {},
     "output_type": "execute_result"
    }
   ],
   "source": [
    "import my_metrics\n",
    "my_metrics.compute(toppop_prediction, test)"
   ]
  },
  {
   "cell_type": "markdown",
   "metadata": {},
   "source": [
    "## ALS"
   ]
  },
  {
   "cell_type": "code",
   "execution_count": 11,
   "metadata": {},
   "outputs": [],
   "source": [
    "n_users = train.user_id.max() + 1\n",
    "n_items = train.item_id.max() + 1"
   ]
  },
  {
   "cell_type": "code",
   "execution_count": 12,
   "metadata": {},
   "outputs": [
    {
     "data": {
      "text/plain": [
       "(13490, 50863)"
      ]
     },
     "execution_count": 12,
     "metadata": {},
     "output_type": "execute_result"
    }
   ],
   "source": [
    "n_users, n_items"
   ]
  },
  {
   "cell_type": "code",
   "execution_count": 14,
   "metadata": {},
   "outputs": [],
   "source": [
    "train_ratings = train \\\n",
    "    .groupby(['item_id', 'user_id'], as_index=False) \\\n",
    "    .size() \\\n",
    "    .rename(columns={'size': 'rating'})\n",
    "\n",
    "user_sum_rating = train_ratings.groupby('user_id').rating.sum()\n",
    "train_ratings = train_ratings.join(user_sum_rating, on='user_id', rsuffix='_sum')\n",
    "train_ratings['rating_normal'] = train_ratings['rating'] / train_ratings['rating_sum']"
   ]
  },
  {
   "cell_type": "code",
   "execution_count": 15,
   "metadata": {},
   "outputs": [
    {
     "data": {
      "text/html": [
       "<div>\n",
       "<style scoped>\n",
       "    .dataframe tbody tr th:only-of-type {\n",
       "        vertical-align: middle;\n",
       "    }\n",
       "\n",
       "    .dataframe tbody tr th {\n",
       "        vertical-align: top;\n",
       "    }\n",
       "\n",
       "    .dataframe thead th {\n",
       "        text-align: right;\n",
       "    }\n",
       "</style>\n",
       "<table border=\"1\" class=\"dataframe\">\n",
       "  <thead>\n",
       "    <tr style=\"text-align: right;\">\n",
       "      <th></th>\n",
       "      <th>item_id</th>\n",
       "      <th>user_id</th>\n",
       "      <th>rating</th>\n",
       "      <th>rating_sum</th>\n",
       "      <th>rating_normal</th>\n",
       "    </tr>\n",
       "  </thead>\n",
       "  <tbody>\n",
       "    <tr>\n",
       "      <th>0</th>\n",
       "      <td>0</td>\n",
       "      <td>598</td>\n",
       "      <td>1</td>\n",
       "      <td>39</td>\n",
       "      <td>0.025641</td>\n",
       "    </tr>\n",
       "    <tr>\n",
       "      <th>1</th>\n",
       "      <td>0</td>\n",
       "      <td>954</td>\n",
       "      <td>1</td>\n",
       "      <td>42</td>\n",
       "      <td>0.023810</td>\n",
       "    </tr>\n",
       "    <tr>\n",
       "      <th>2</th>\n",
       "      <td>0</td>\n",
       "      <td>1372</td>\n",
       "      <td>1</td>\n",
       "      <td>41</td>\n",
       "      <td>0.024390</td>\n",
       "    </tr>\n",
       "    <tr>\n",
       "      <th>3</th>\n",
       "      <td>0</td>\n",
       "      <td>1401</td>\n",
       "      <td>1</td>\n",
       "      <td>48</td>\n",
       "      <td>0.020833</td>\n",
       "    </tr>\n",
       "    <tr>\n",
       "      <th>4</th>\n",
       "      <td>0</td>\n",
       "      <td>1576</td>\n",
       "      <td>1</td>\n",
       "      <td>102</td>\n",
       "      <td>0.009804</td>\n",
       "    </tr>\n",
       "    <tr>\n",
       "      <th>...</th>\n",
       "      <td>...</td>\n",
       "      <td>...</td>\n",
       "      <td>...</td>\n",
       "      <td>...</td>\n",
       "      <td>...</td>\n",
       "    </tr>\n",
       "    <tr>\n",
       "      <th>688754</th>\n",
       "      <td>50861</td>\n",
       "      <td>157</td>\n",
       "      <td>1</td>\n",
       "      <td>41</td>\n",
       "      <td>0.024390</td>\n",
       "    </tr>\n",
       "    <tr>\n",
       "      <th>688755</th>\n",
       "      <td>50861</td>\n",
       "      <td>2272</td>\n",
       "      <td>1</td>\n",
       "      <td>55</td>\n",
       "      <td>0.018182</td>\n",
       "    </tr>\n",
       "    <tr>\n",
       "      <th>688756</th>\n",
       "      <td>50862</td>\n",
       "      <td>2161</td>\n",
       "      <td>1</td>\n",
       "      <td>42</td>\n",
       "      <td>0.023810</td>\n",
       "    </tr>\n",
       "    <tr>\n",
       "      <th>688757</th>\n",
       "      <td>50862</td>\n",
       "      <td>3140</td>\n",
       "      <td>1</td>\n",
       "      <td>45</td>\n",
       "      <td>0.022222</td>\n",
       "    </tr>\n",
       "    <tr>\n",
       "      <th>688758</th>\n",
       "      <td>50862</td>\n",
       "      <td>12460</td>\n",
       "      <td>1</td>\n",
       "      <td>55</td>\n",
       "      <td>0.018182</td>\n",
       "    </tr>\n",
       "  </tbody>\n",
       "</table>\n",
       "<p>688759 rows × 5 columns</p>\n",
       "</div>"
      ],
      "text/plain": [
       "        item_id  user_id  rating  rating_sum  rating_normal\n",
       "0             0      598       1          39       0.025641\n",
       "1             0      954       1          42       0.023810\n",
       "2             0     1372       1          41       0.024390\n",
       "3             0     1401       1          48       0.020833\n",
       "4             0     1576       1         102       0.009804\n",
       "...         ...      ...     ...         ...            ...\n",
       "688754    50861      157       1          41       0.024390\n",
       "688755    50861     2272       1          55       0.018182\n",
       "688756    50862     2161       1          42       0.023810\n",
       "688757    50862     3140       1          45       0.022222\n",
       "688758    50862    12460       1          55       0.018182\n",
       "\n",
       "[688759 rows x 5 columns]"
      ]
     },
     "execution_count": 15,
     "metadata": {},
     "output_type": "execute_result"
    }
   ],
   "source": [
    "train_ratings"
   ]
  },
  {
   "cell_type": "code",
   "execution_count": 16,
   "metadata": {},
   "outputs": [],
   "source": [
    "confidence = 1.0 + train_ratings.rating_normal.values * 40.0\n",
    "\n",
    "rating_matrix = sparse.csr_matrix(\n",
    "    (\n",
    "        confidence, \n",
    "        (\n",
    "            train_ratings.item_id.values,\n",
    "            train_ratings.user_id.values\n",
    "        )\n",
    "    ),\n",
    "    shape=(n_items, n_users)\n",
    ")\n",
    "\n",
    "rating_matrix_T = sparse.csr_matrix(\n",
    "    (\n",
    "        np.full(rating_matrix.nnz, 1), \n",
    "        (\n",
    "            train_ratings.user_id.values,\n",
    "            train_ratings.item_id.values\n",
    "        )\n",
    "    ),\n",
    "    shape=(n_users, n_items)\n",
    ")"
   ]
  },
  {
   "cell_type": "code",
   "execution_count": 19,
   "metadata": {},
   "outputs": [
    {
     "data": {
      "text/plain": [
       "0.10038142694891947"
      ]
     },
     "execution_count": 19,
     "metadata": {},
     "output_type": "execute_result"
    }
   ],
   "source": [
    "rating_matrix.nnz / (n_items * n_users) * 100"
   ]
  },
  {
   "cell_type": "code",
   "execution_count": 20,
   "metadata": {},
   "outputs": [
    {
     "name": "stderr",
     "output_type": "stream",
     "text": [
      "WARNING:root:Intel MKL BLAS detected. Its highly recommend to set the environment variable 'export MKL_NUM_THREADS=1' to disable its internal multithreading\n"
     ]
    },
    {
     "data": {
      "application/vnd.jupyter.widget-view+json": {
       "model_id": "dda32d9b381c4cb6a6409d13ecebcd31",
       "version_major": 2,
       "version_minor": 0
      },
      "text/plain": [
       "  0%|          | 0/100 [00:00<?, ?it/s]"
      ]
     },
     "metadata": {},
     "output_type": "display_data"
    }
   ],
   "source": [
    "import implicit\n",
    "\n",
    "als = implicit.als.AlternatingLeastSquares(factors=128, \n",
    "                                           calculate_training_loss=True, \n",
    "                                           iterations=100)\n",
    "\n",
    "als.fit(rating_matrix)"
   ]
  },
  {
   "cell_type": "code",
   "execution_count": 21,
   "metadata": {},
   "outputs": [
    {
     "name": "stderr",
     "output_type": "stream",
     "text": [
      "[Parallel(n_jobs=32)]: Using backend MultiprocessingBackend with 32 concurrent workers.\n",
      "[Parallel(n_jobs=32)]: Done 224 tasks      | elapsed:    0.3s\n",
      "[Parallel(n_jobs=32)]: Done 2000 tasks      | elapsed:    2.1s\n",
      "[Parallel(n_jobs=32)]: Done 4800 tasks      | elapsed:    4.6s\n",
      "[Parallel(n_jobs=32)]: Done 8400 tasks      | elapsed:    7.8s\n",
      "[Parallel(n_jobs=32)]: Done 12800 tasks      | elapsed:   11.3s\n",
      "[Parallel(n_jobs=32)]: Done 13490 out of 13490 | elapsed:   11.7s finished\n"
     ]
    }
   ],
   "source": [
    "import joblib\n",
    "\n",
    "def predict_als_for_user(user_id):\n",
    "    recommendations = als.recommend(user_id, rating_matrix_T, N=10)\n",
    "    recommended_items = [x for x, _ in recommendations]\n",
    "    recommended_scores = [x for _, x in recommendations]\n",
    "    return user_id, recommended_items, recommended_scores\n",
    "\n",
    "als_prediction_raw = joblib.Parallel(backend='multiprocessing', verbose=1, n_jobs=32)(\n",
    "    joblib.delayed(predict_als_for_user)(u) for u in train.user_id.unique()\n",
    ")\n",
    "\n",
    "als_prediction = pd.DataFrame(als_prediction_raw, columns=['user_id', 'item_id', 'score'])"
   ]
  },
  {
   "cell_type": "code",
   "execution_count": 22,
   "metadata": {},
   "outputs": [
    {
     "data": {
      "text/plain": [
       "{'recall': 0.13897454904867804, 'map': 0.09399931165943025}"
      ]
     },
     "execution_count": 22,
     "metadata": {},
     "output_type": "execute_result"
    }
   ],
   "source": [
    "my_metrics.compute(als_prediction, test)"
   ]
  }
 ],
 "metadata": {
  "interpreter": {
   "hash": "94c34a5abb8020cb6544a625aa41b8bddac6c874d1983a8bde38d28611831409"
  },
  "kernelspec": {
   "display_name": "Python 3.9.7 64-bit ('hse': conda)",
   "language": "python",
   "name": "python3"
  },
  "language_info": {
   "codemirror_mode": {
    "name": "ipython",
    "version": 3
   },
   "file_extension": ".py",
   "mimetype": "text/x-python",
   "name": "python",
   "nbconvert_exporter": "python",
   "pygments_lexer": "ipython3",
   "version": "3.9.7"
  },
  "orig_nbformat": 4
 },
 "nbformat": 4,
 "nbformat_minor": 2
}
